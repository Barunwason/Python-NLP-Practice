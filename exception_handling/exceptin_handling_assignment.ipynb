{
 "cells": [
  {
   "cell_type": "markdown",
   "metadata": {},
   "source": [
    "### Assignment 1: Handling Division by Zero\n",
    "Write a function that takes two integers as input and returns their division. Use try, except, and finally blocks to handle division by zero and print an appropriate message."
   ]
  },
  {
   "cell_type": "code",
   "execution_count": 18,
   "metadata": {},
   "outputs": [
    {
     "name": "stdout",
     "output_type": "stream",
     "text": [
      "0.08333333333333333\n"
     ]
    }
   ],
   "source": [
    "def division(a,b):\n",
    "    return a/b\n",
    "\n",
    "try:\n",
    "    result=division(1,12)\n",
    "except ZeroDivisionError:\n",
    "    print(\"Denominator can't be zero\")\n",
    "else:\n",
    "    print(result)"
   ]
  },
  {
   "cell_type": "markdown",
   "metadata": {},
   "source": [
    "### Assignment 2: File Reading with Exception Handling\n",
    "\n",
    "Write a function that reads the contents of a file named `data.txt`. Use try, except, and finally blocks to handle file not found errors and ensure the file is properly closed."
   ]
  },
  {
   "cell_type": "code",
   "execution_count": 19,
   "metadata": {},
   "outputs": [
    {
     "name": "stdout",
     "output_type": "stream",
     "text": [
      "file does not found\n"
     ]
    }
   ],
   "source": [
    "def read_file():\n",
    "    try:\n",
    "        file=open('data.txt','r')\n",
    "        content=file.read()\n",
    "    except FileNotFoundError:\n",
    "        print(\"file does not found\")\n",
    "    finally:\n",
    "        if 'file' in locals() and not file.closed():\n",
    "            file.closed()\n",
    "            \n",
    "read_file()"
   ]
  },
  {
   "cell_type": "markdown",
   "metadata": {},
   "source": [
    "### Assignment 3: Handling Multiple Exceptions\n",
    "\n",
    "Write a function that takes a list of integers and returns their sum. Use try, except, and finally blocks to handle TypeError if a non-integer value is encountered and print an appropriate message."
   ]
  },
  {
   "cell_type": "code",
   "execution_count": 20,
   "metadata": {},
   "outputs": [
    {
     "name": "stdout",
     "output_type": "stream",
     "text": [
      "15\n"
     ]
    }
   ],
   "source": [
    "def sum(l):\n",
    "    elements_sum=0\n",
    "    for i in range (len(l)):\n",
    "        elements_sum+=l[i]\n",
    "    return elements_sum\n",
    "\n",
    "l1=[1,2,3,4,5]\n",
    "sum(l1)\n",
    "\n",
    "try:\n",
    "    l1=[1,2,3,4,5]\n",
    "    l2=['a','b','c']\n",
    "    result=sum(l1)\n",
    "except TypeError:\n",
    "    print(\"data type is incorrect\")\n",
    "finally:\n",
    "    print(result)"
   ]
  },
  {
   "cell_type": "markdown",
   "metadata": {},
   "source": [
    "### Assignment 4: Exception Handling in User Input\n",
    "\n",
    "Write a function that prompts the user to enter an integer. Use try, except, and finally blocks to handle ValueError if the user enters a non-integer value and print an appropriate message."
   ]
  },
  {
   "cell_type": "code",
   "execution_count": 21,
   "metadata": {},
   "outputs": [],
   "source": [
    "def take_input():\n",
    "    a=int(input(\"enter the number\"))\n",
    "\n",
    "try:\n",
    "    take_input()\n",
    "except ValueError:\n",
    "    print(\"Enter only integers\")"
   ]
  },
  {
   "cell_type": "markdown",
   "metadata": {},
   "source": [
    "### Assignment 5: Exception Handling in Dictionary Access\n",
    "\n",
    "Write a function that takes a dictionary and a key as input and returns the value associated with the key. Use try, except, and finally blocks to handle KeyError if the key is not found in the dictionary and print an appropriate message."
   ]
  },
  {
   "cell_type": "code",
   "execution_count": null,
   "metadata": {},
   "outputs": [
    {
     "name": "stdout",
     "output_type": "stream",
     "text": [
      "Enter the right key\n",
      "15\n"
     ]
    }
   ],
   "source": [
    "def value_of_key(d):\n",
    "    key=str(input('enter the key'))\n",
    "    return d[f'{key}']\n",
    "\n",
    "try:\n",
    "    d1={\n",
    "    'name':'barun',\n",
    "    'age':23\n",
    "}\n",
    "    result=value_of_key(d1)\n",
    "    \n",
    "except KeyError:\n",
    "    print('Enter the right key')\n",
    "finally:\n",
    "    print(result)"
   ]
  },
  {
   "cell_type": "markdown",
   "metadata": {},
   "source": [
    "### Assignment 6: Nested Exception Handling\n",
    "\n",
    "Write a function that performs nested exception handling. It should first attempt to convert a string to an integer, and then attempt to divide by that integer. Use nested try, except, and finally blocks to handle ValueError and ZeroDivisionError and print appropriate messages."
   ]
  },
  {
   "cell_type": "code",
   "execution_count": null,
   "metadata": {},
   "outputs": [
    {
     "name": "stdout",
     "output_type": "stream",
     "text": [
      "enter numerical value\n"
     ]
    }
   ],
   "source": [
    "def convert_and_divide(str):\n",
    "    divisor=int(input(\"enter the divisor\"))\n",
    "    numerator=int(str)\n",
    "    return numerator/divisor\n",
    "try:\n",
    "    result=convert_and_divide(\"a\")\n",
    "except ValueError:\n",
    "    print(\"enter numerical value\")\n",
    "except ZeroDivisionError:\n",
    "    print(\"divisor can't be zero\")\n",
    "else:\n",
    "    print(result)\n"
   ]
  },
  {
   "cell_type": "code",
   "execution_count": null,
   "metadata": {},
   "outputs": [
    {
     "name": "stdout",
     "output_type": "stream",
     "text": [
      "0.3333333333333333\n",
      "Enter numerical value\n",
      "divisor can't be zero\n"
     ]
    }
   ],
   "source": [
    "def convert_and_divide1(str,divisor):\n",
    "    ###numerator=0\n",
    "    try:\n",
    "        numerator=int(str)\n",
    "    except ValueError:\n",
    "        print(\"Enter numerical value\")\n",
    "        return                              ##so that variable numerator can be access in other try block\n",
    "        \n",
    "    try:\n",
    "        result=numerator/divisor\n",
    "    except ZeroDivisionError:\n",
    "        print(\"divisor can't be zero\")\n",
    "    else:\n",
    "        print(result)\n",
    "\n",
    "convert_and_divide1('4',12)\n",
    "convert_and_divide1('a',12)\n",
    "convert_and_divide1('2',0)\n"
   ]
  },
  {
   "cell_type": "markdown",
   "metadata": {},
   "source": [
    "### Assignment 7: Exception Handling in List Operations\n",
    "\n",
    "Write a function that takes a list and an index as input and returns the element at the given index. Use try, except, and finally blocks to handle IndexError if the index is out of range and print an appropriate message."
   ]
  },
  {
   "cell_type": "code",
   "execution_count": null,
   "metadata": {},
   "outputs": [
    {
     "name": "stdout",
     "output_type": "stream",
     "text": [
      "4\n",
      "index is out of bound\n"
     ]
    }
   ],
   "source": [
    "def print_list_element(l1,index):\n",
    "    try:\n",
    "        result=l1[index]\n",
    "    except IndexError:\n",
    "        print(\"index is out of bound\")\n",
    "    else:\n",
    "        print(result)\n",
    "        \n",
    "l1=[1,2,3,4,5]\n",
    "print_list_element(l1,3)\n",
    "print_list_element(l1,5)"
   ]
  },
  {
   "cell_type": "markdown",
   "metadata": {},
   "source": [
    "### Assignment 8: Exception Handling in Network Operations\n",
    "\n",
    "Write a function that attempts to open a URL and read its contents. Use try, except, and finally blocks to handle network-related errors and print an appropriate message."
   ]
  },
  {
   "cell_type": "code",
   "execution_count": 1,
   "metadata": {},
   "outputs": [
    {
     "name": "stdout",
     "output_type": "stream",
     "text": [
      "Successfully retrieved the contents of the URL.\n",
      "Execution of the URL retrieval attempt is complete.\n",
      "<!doctype html>\n",
      "<html>\n",
      "<head>\n",
      "    <title>Example Domain</title>\n",
      "\n",
      "    <meta charset=\"utf-8\" />\n",
      "    <meta http-equiv=\"Content-type\" content=\"text/html; charset=utf-8\" />\n",
      "    <meta name=\"viewport\" content=\"width=device-width, initial-scale=1\" />\n",
      "    <style type=\"text/css\">\n",
      "    body {\n",
      "        background-color: #f0f0f2;\n",
      "        margin: 0;\n",
      "        padding: 0;\n",
      "        font-family: -apple-system, system-ui, BlinkMacSystemFont, \"Segoe UI\", \"Open Sans\", \"Helvetica Neue\", Helvetica, Arial, sans-serif;\n",
      "        \n",
      "    }\n",
      "    div {\n",
      "        width: 600px;\n",
      "        margin: 5em auto;\n",
      "        padding: 2em;\n",
      "        background-color: #fdfdff;\n",
      "        border-radius: 0.5em;\n",
      "        box-shadow: 2px 3px 7px 2px rgba(0,0,0,0.02);\n",
      "    }\n",
      "    a:link, a:visited {\n",
      "        color: #38488f;\n",
      "        text-decoration: none;\n",
      "    }\n",
      "    @media (max-width: 700px) {\n",
      "        div {\n",
      "            margin: 0 auto;\n",
      "            width: auto;\n",
      "        }\n",
      "    }\n",
      "    </style>    \n",
      "</head>\n",
      "\n",
      "<body>\n",
      "<div>\n",
      "    <h1>Example Domain</h1>\n",
      "    <p>This domain is for use in illustrative examples in documents. You may use this\n",
      "    domain in literature without prior coordination or asking for permission.</p>\n",
      "    <p><a href=\"https://www.iana.org/domains/example\">More information...</a></p>\n",
      "</div>\n",
      "</body>\n",
      "</html>\n",
      "\n"
     ]
    }
   ],
   "source": [
    "import urllib.request\n",
    "import urllib.error\n",
    "\n",
    "def read_url_contents(url):\n",
    "    try:\n",
    "        \n",
    "        response = urllib.request.urlopen(url)\n",
    "        \n",
    "        contents = response.read().decode('utf-8')\n",
    "        print(\"Successfully retrieved the contents of the URL.\")\n",
    "        return contents\n",
    "    except urllib.error.URLError as e:\n",
    "        \n",
    "        print(f\"Failed to retrieve the contents of the URL. Error: {e.reason}\")\n",
    "    except urllib.error.HTTPError as e:\n",
    "       \n",
    "        print(f\"HTTP Error occurred: {e.code} - {e.reason}\")\n",
    "    except Exception as e:\n",
    "        \n",
    "        print(f\"An unexpected error occurred: {e}\")\n",
    "    finally:\n",
    "        print(\"Execution of the URL retrieval attempt is complete.\")\n",
    "\n",
    "# Example usage:\n",
    "url = 'http://example.com'\n",
    "contents = read_url_contents(url)\n",
    "if contents:\n",
    "    print(contents)\n"
   ]
  },
  {
   "cell_type": "code",
   "execution_count": null,
   "metadata": {},
   "outputs": [],
   "source": []
  }
 ],
 "metadata": {
  "kernelspec": {
   "display_name": "Python 3.12.4 64-bit (microsoft store)",
   "language": "python",
   "name": "python3"
  },
  "language_info": {
   "codemirror_mode": {
    "name": "ipython",
    "version": 3
   },
   "file_extension": ".py",
   "mimetype": "text/x-python",
   "name": "python",
   "nbconvert_exporter": "python",
   "pygments_lexer": "ipython3",
   "version": "3.12.4"
  },
  "orig_nbformat": 4,
  "vscode": {
   "interpreter": {
    "hash": "14abb85e990de3c18f8c0fff9b51ee9e125839eace540016770033234ce80d4b"
   }
  }
 },
 "nbformat": 4,
 "nbformat_minor": 2
}
