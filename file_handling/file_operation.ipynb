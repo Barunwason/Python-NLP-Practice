{
 "cells": [
  {
   "cell_type": "code",
   "execution_count": 3,
   "metadata": {},
   "outputs": [
    {
     "name": "stdout",
     "output_type": "stream",
     "text": [
      "hi \n",
      "barun this side\n",
      "b\n",
      "a\n",
      "r\n",
      "u\n",
      "n\n",
      "\n"
     ]
    }
   ],
   "source": [
    "with open('example.txt','r') as file:\n",
    "    content=file.read()\n",
    "    print(content)"
   ]
  },
  {
   "cell_type": "code",
   "execution_count": 6,
   "metadata": {},
   "outputs": [
    {
     "name": "stdout",
     "output_type": "stream",
     "text": [
      "hello world\n",
      "this is new line.\n"
     ]
    }
   ],
   "source": [
    "with open('example.txt','w')as file:\n",
    "    file.write('hello world\\n')\n",
    "    file.write('this is new line.')\n",
    "    \n",
    "with open('example.txt','r') as file:\n",
    "    content=file.read()\n",
    "    print(content)"
   ]
  },
  {
   "cell_type": "code",
   "execution_count": 5,
   "metadata": {},
   "outputs": [],
   "source": [
    "with open('example.txt','a')as file:\n",
    "    file.write('\\nappending a new line')"
   ]
  },
  {
   "cell_type": "code",
   "execution_count": 1,
   "metadata": {},
   "outputs": [],
   "source": [
    "##creating a directory\n",
    "import os\n",
    "os.mkdir(\"package\") "
   ]
  },
  {
   "cell_type": "code",
   "execution_count": 3,
   "metadata": {},
   "outputs": [
    {
     "data": {
      "text/plain": [
       "['example.txt', 'file_operation.ipynb', 'package']"
      ]
     },
     "execution_count": 3,
     "metadata": {},
     "output_type": "execute_result"
    }
   ],
   "source": [
    "##Listting Files And Directories\n",
    "os.listdir()"
   ]
  },
  {
   "cell_type": "code",
   "execution_count": 6,
   "metadata": {},
   "outputs": [
    {
     "name": "stdout",
     "output_type": "stream",
     "text": [
      "c:\\Users\\Neeti\\Documents\\python\\file_handling\\example.txt\n"
     ]
    }
   ],
   "source": [
    "##getting absolute path\n",
    "relative_path=\"example.txt\"\n",
    "absolute_path=os.path.abspath(relative_path)\n",
    "print(absolute_path)"
   ]
  },
  {
   "cell_type": "code",
   "execution_count": 8,
   "metadata": {},
   "outputs": [
    {
     "name": "stdout",
     "output_type": "stream",
     "text": [
      "the path 'example.txt' is a file\n"
     ]
    }
   ],
   "source": [
    "#checking whether the path is file or directory\n",
    "path=\"example.txt\"\n",
    "if (os.path.isfile(path)):\n",
    "    print(f\"the path '{path}' is a file\")\n",
    "elif (os.path.isdir(path)):\n",
    "    print(f\"the path '{path}' is a directory\")\n",
    "else:\n",
    "    print(f\"the path '{path}' is neither a file and nor a directory\")"
   ]
  }
 ],
 "metadata": {
  "kernelspec": {
   "display_name": "Python 3.12.4 64-bit (microsoft store)",
   "language": "python",
   "name": "python3"
  },
  "language_info": {
   "codemirror_mode": {
    "name": "ipython",
    "version": 3
   },
   "file_extension": ".py",
   "mimetype": "text/x-python",
   "name": "python",
   "nbconvert_exporter": "python",
   "pygments_lexer": "ipython3",
   "version": "3.12.5"
  },
  "orig_nbformat": 4,
  "vscode": {
   "interpreter": {
    "hash": "14abb85e990de3c18f8c0fff9b51ee9e125839eace540016770033234ce80d4b"
   }
  }
 },
 "nbformat": 4,
 "nbformat_minor": 2
}
