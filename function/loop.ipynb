{
 "cells": [
  {
   "cell_type": "code",
   "execution_count": 10,
   "metadata": {},
   "outputs": [],
   "source": [
    "### starting the npl journey"
   ]
  },
  {
   "cell_type": "code",
   "execution_count": 30,
   "metadata": {},
   "outputs": [
    {
     "name": "stdout",
     "output_type": "stream",
     "text": [
      "barun=wason\n"
     ]
    }
   ],
   "source": [
    "print('barun',end=\"=\")\n",
    "print(\"wason\")"
   ]
  },
  {
   "cell_type": "markdown",
   "metadata": {},
   "source": [
    "### hello"
   ]
  },
  {
   "cell_type": "code",
   "execution_count": 31,
   "metadata": {},
   "outputs": [
    {
     "name": "stdout",
     "output_type": "stream",
     "text": [
      "0=\n",
      "\n",
      "1=0 \n",
      "\n",
      "2=0 1 \n",
      "\n",
      "3=0 1 2 \n",
      "\n",
      "4=0 1 2 3 \n",
      "\n",
      "5=0 1 2 3 4 \n",
      "\n",
      "6=0 1 2 3 4 5 \n",
      "\n",
      "7=0 1 2 3 4 5 6 \n",
      "\n",
      "8=0 1 2 3 4 5 6 7 \n",
      "\n",
      "9=0 1 2 3 4 5 6 7 8 \n",
      "\n"
     ]
    }
   ],
   "source": [
    "for i in range(10):\n",
    "    print(i,end=\"=\")\n",
    "    for j in range(i):\n",
    "        print(j,end=\" \")\n",
    "    print('\\n')    "
   ]
  },
  {
   "cell_type": "code",
   "execution_count": 33,
   "metadata": {},
   "outputs": [
    {
     "name": "stdout",
     "output_type": "stream",
     "text": [
      "* \n",
      "\n",
      "* * \n",
      "\n",
      "* * * \n",
      "\n",
      "* * * * \n",
      "\n",
      "* * * * * \n",
      "\n",
      "* * * * * * \n",
      "\n",
      "* * * * * * * \n",
      "\n",
      "* * * * * * * * \n",
      "\n",
      "* * * * * * * * * \n",
      "\n"
     ]
    }
   ],
   "source": [
    "for i in range(1,10):\n",
    "    for j in range (i):\n",
    "        print(\"*\",end=\" \")\n",
    "    print(\"\\n\")    "
   ]
  },
  {
   "cell_type": "code",
   "execution_count": 43,
   "metadata": {},
   "outputs": [
    {
     "name": "stdout",
     "output_type": "stream",
     "text": [
      "0 1 2 3 4 5 6 7 8 9 \n",
      "\n",
      " 0 1 2 3 4 5 6 7 8 \n",
      "\n",
      " 0 1 2 3 4 5 6 7 \n",
      "\n",
      " 0 1 2 3 4 5 6 \n",
      "\n",
      " 0 1 2 3 4 5 \n",
      "\n",
      " 0 1 2 3 4 \n",
      "\n",
      " 0 1 2 3 \n",
      "\n",
      " 0 1 2 \n",
      "\n",
      " 0 1 \n",
      "\n",
      " 0 \n",
      "\n",
      " "
     ]
    }
   ],
   "source": [
    "for j in range (10,0,-1):\n",
    "    for i in range(j):\n",
    "        print(i,end=\" \")\n",
    "    print(\"\\n\") \n",
    "    print(end=\" \") \n",
    "      "
   ]
  },
  {
   "cell_type": "code",
   "execution_count": 7,
   "metadata": {},
   "outputs": [
    {
     "name": "stdout",
     "output_type": "stream",
     "text": [
      "* * * * * \n",
      "\n",
      " * * * * \n",
      "\n",
      "  * * * \n",
      "\n",
      "   * * \n",
      "\n",
      "    * \n",
      "\n"
     ]
    }
   ],
   "source": [
    "n=5\n",
    "for i in range(n,0,-1):\n",
    "    for j in range(n,i,-1):\n",
    "        print(end=\" \")\n",
    "    for k in range(i):\n",
    "        print(\"*\",end=\" \")\n",
    "    print(\"\\n\")\n",
    "        "
   ]
  },
  {
   "cell_type": "code",
   "execution_count": 17,
   "metadata": {},
   "outputs": [
    {
     "name": "stdout",
     "output_type": "stream",
     "text": [
      "         \n",
      "\n",
      "        1 \n",
      "\n",
      "       1 2 \n",
      "\n",
      "      1 2 3 \n",
      "\n",
      "     1 2 3 4 \n",
      "\n",
      "    1 2 3 4 5 \n",
      "\n",
      "   1 2 3 4 5 6 \n",
      "\n",
      "  1 2 3 4 5 6 7 \n",
      "\n",
      " 1 2 3 4 5 6 7 8 \n",
      "\n"
     ]
    }
   ],
   "source": [
    "n=10\n",
    "for i in range(1,n):\n",
    "    for j in range(n,i,-1):\n",
    "        print(end=\" \")\n",
    "    for k in range(1,i):\n",
    "        print(k,end=\" \")\n",
    "    print(\"\\n\")"
   ]
  },
  {
   "cell_type": "code",
   "execution_count": 1,
   "metadata": {},
   "outputs": [],
   "source": []
  },
  {
   "cell_type": "code",
   "execution_count": null,
   "metadata": {},
   "outputs": [],
   "source": []
  }
 ],
 "metadata": {
  "kernelspec": {
   "display_name": "Python 3.12.2 64-bit (microsoft store)",
   "language": "python",
   "name": "python3"
  },
  "language_info": {
   "codemirror_mode": {
    "name": "ipython",
    "version": 3
   },
   "file_extension": ".py",
   "mimetype": "text/x-python",
   "name": "python",
   "nbconvert_exporter": "python",
   "pygments_lexer": "ipython3",
   "version": "3.12.4"
  },
  "orig_nbformat": 4,
  "vscode": {
   "interpreter": {
    "hash": "14abb85e990de3c18f8c0fff9b51ee9e125839eace540016770033234ce80d4b"
   }
  }
 },
 "nbformat": 4,
 "nbformat_minor": 2
}
