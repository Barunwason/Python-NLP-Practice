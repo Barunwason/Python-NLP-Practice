{
 "cells": [
  {
   "cell_type": "code",
   "execution_count": 8,
   "metadata": {},
   "outputs": [
    {
     "name": "stdout",
     "output_type": "stream",
     "text": [
      "bismeet is great\n"
     ]
    }
   ],
   "source": [
    "# default parameter\n",
    "def func(name = \"bismeet\"):\n",
    "    print(f\"{name} is great\")\n",
    "    \n",
    "func()\n",
    "func(\"barun\")"
   ]
  },
  {
   "cell_type": "code",
   "execution_count": null,
   "metadata": {},
   "outputs": [],
   "source": []
  },
  {
   "cell_type": "code",
   "execution_count": 9,
   "metadata": {},
   "outputs": [
    {
     "name": "stdout",
     "output_type": "stream",
     "text": [
      "b\n",
      "a\n",
      "r\n",
      "u\n",
      "n\n"
     ]
    }
   ],
   "source": [
    "name=\"barun\"\n",
    "for i in name:\n",
    "    print(i)"
   ]
  },
  {
   "cell_type": "code",
   "execution_count": 11,
   "metadata": {},
   "outputs": [],
   "source": [
    "# positional argument \n",
    "def print_everything(*args):\n",
    "    for i in args:\n",
    "        print(i)"
   ]
  },
  {
   "cell_type": "code",
   "execution_count": 12,
   "metadata": {},
   "outputs": [
    {
     "name": "stdout",
     "output_type": "stream",
     "text": [
      "1\n",
      "4\n",
      "2\n",
      "3\n",
      "6\n",
      "barun\n"
     ]
    }
   ],
   "source": [
    "print_everything(1,4,2,3,6,\"barun\")"
   ]
  },
  {
   "cell_type": "code",
   "execution_count": 13,
   "metadata": {},
   "outputs": [],
   "source": [
    "# keyword argument\n",
    "def print_details(**kwargs):\n",
    "    for key,value in kwargs.items():\n",
    "        print(f\"{key}:{value}\")\n",
    "        "
   ]
  },
  {
   "cell_type": "code",
   "execution_count": 14,
   "metadata": {},
   "outputs": [
    {
     "name": "stdout",
     "output_type": "stream",
     "text": [
      "name:barun\n",
      "age:20\n",
      "city:delhi\n"
     ]
    }
   ],
   "source": [
    "print_details(name=\"barun\",age=20,city=\"delhi\")"
   ]
  },
  {
   "cell_type": "code",
   "execution_count": 18,
   "metadata": {},
   "outputs": [],
   "source": [
    "## positional and keyword argument in one function\n",
    "def func1(*args,**kwargs):\n",
    "    for i in args:\n",
    "        print(i)\n",
    "    for key,value in kwargs.items():\n",
    "        print(f\"{key}:{value}\")    "
   ]
  },
  {
   "cell_type": "code",
   "execution_count": 19,
   "metadata": {},
   "outputs": [
    {
     "name": "stdout",
     "output_type": "stream",
     "text": [
      "1\n",
      "2\n",
      "3\n",
      "barun\n",
      "name:barun\n"
     ]
    }
   ],
   "source": [
    "func1(1,2,3,\"barun\", name=\"barun\")"
   ]
  },
  {
   "cell_type": "code",
   "execution_count": 5,
   "metadata": {},
   "outputs": [
    {
     "data": {
      "text/plain": [
       "1980"
      ]
     },
     "execution_count": 5,
     "metadata": {},
     "output_type": "execute_result"
    }
   ],
   "source": [
    "## return statement \n",
    "def multiple(a,b):\n",
    "    return a*b\n",
    "\n",
    "multiple(90,22)"
   ]
  },
  {
   "cell_type": "code",
   "execution_count": 6,
   "metadata": {},
   "outputs": [
    {
     "data": {
      "text/plain": [
       "(1980, 90)"
      ]
     },
     "execution_count": 6,
     "metadata": {},
     "output_type": "execute_result"
    }
   ],
   "source": [
    "## return multiple statement \n",
    "def multiple(a,b):\n",
    "    return a*b,a\n",
    "\n",
    "multiple(90,22)"
   ]
  },
  {
   "cell_type": "code",
   "execution_count": 18,
   "metadata": {},
   "outputs": [
    {
     "name": "stdout",
     "output_type": "stream",
     "text": [
      "77.0\n",
      "25.0\n"
     ]
    }
   ],
   "source": [
    "## temprature converter\n",
    "def temprature(temp,unit):\n",
    "    if(unit=='c'):\n",
    "        return temp*9/5 +32\n",
    "    elif(unit=='f'):\n",
    "        return (temp-32)*5/9\n",
    "    \n",
    "print(temprature(25,'c'))\n",
    "print(temprature(77,'f'))"
   ]
  },
  {
   "cell_type": "code",
   "execution_count": 26,
   "metadata": {},
   "outputs": [
    {
     "name": "stdout",
     "output_type": "stream",
     "text": [
      "False\n"
     ]
    }
   ],
   "source": [
    "password1=\"barun\"\n",
    "c=password1.isupper()\n",
    "if not any(char.islower() for char in password1):\n",
    "    print(password1)\n",
    "print(c)    "
   ]
  },
  {
   "cell_type": "code",
   "execution_count": 46,
   "metadata": {},
   "outputs": [
    {
     "name": "stdout",
     "output_type": "stream",
     "text": [
      "False\n"
     ]
    }
   ],
   "source": [
    "##password strengh checker\n",
    "def is_string_password(password):\n",
    "    if len(password)<8:\n",
    "        return False\n",
    "    if not any(char.isupper() for char in password):\n",
    "        return False\n",
    "    if not any(char.islower() for char in password):\n",
    "        return False\n",
    "    if not any(char.isdigit() for char in password):\n",
    "        return False\n",
    "    if not any(char in '!@#$%^&*()_+' for char in password):\n",
    "        return False\n",
    "    else:\n",
    "        return True\n",
    "print(is_string_password('veenwason@1'))"
   ]
  },
  {
   "cell_type": "code",
   "execution_count": 21,
   "metadata": {},
   "outputs": [
    {
     "name": "stdout",
     "output_type": "stream",
     "text": [
      "{'name': 'apple', 'price': 9, 'quantity': 2}\n",
      "18\n",
      "{'name': 'banana', 'price': 14, 'quantity': 6}\n",
      "84\n",
      "{'name': 'apple', 'price': 10, 'quantity': 5}\n",
      "50\n",
      "152\n"
     ]
    }
   ],
   "source": [
    "cart=[\n",
    "    {'name':'apple','price':9,'quantity':2},\n",
    "    {'name':'banana','price':14,'quantity':6},\n",
    "    {'name':'apple','price':10,'quantity':5}\n",
    "]\n",
    "a=0\n",
    "for char in cart:\n",
    "    print(char)\n",
    "    print(char['price']*char['quantity'])\n",
    "    a+=char['price']*char['quantity']\n",
    "    \n",
    "print(a)    "
   ]
  },
  {
   "cell_type": "code",
   "execution_count": 23,
   "metadata": {},
   "outputs": [
    {
     "data": {
      "text/plain": [
       "152"
      ]
     },
     "execution_count": 23,
     "metadata": {},
     "output_type": "execute_result"
    }
   ],
   "source": [
    "def cal_total_cost(cart):\n",
    "    total_cost=0\n",
    "    for item in cart:\n",
    "        total_cost+=(item['price']*item['quantity'])\n",
    "    return total_cost  \n",
    "\n",
    "cal_total_cost(cart)  "
   ]
  },
  {
   "cell_type": "code",
   "execution_count": 11,
   "metadata": {},
   "outputs": [
    {
     "name": "stdout",
     "output_type": "stream",
     "text": [
      "9\n"
     ]
    }
   ],
   "source": [
    "dict={'name':'apple','price':9,'quantity':2}\n",
    "print(dict[\"price\"])"
   ]
  },
  {
   "cell_type": "code",
   "execution_count": 42,
   "metadata": {},
   "outputs": [
    {
     "name": "stdout",
     "output_type": "stream",
     "text": [
      "nurab\n",
      "barun\n"
     ]
    }
   ],
   "source": [
    "str1='barun'\n",
    "c=str1[-1::-1]\n",
    "d=str1[0:]\n",
    "print(c)\n",
    "print(d)\n",
    "###for i in c:\n",
    "###    print(i)"
   ]
  },
  {
   "cell_type": "code",
   "execution_count": 49,
   "metadata": {},
   "outputs": [
    {
     "name": "stdout",
     "output_type": "stream",
     "text": [
      "string is not palindrome\n",
      "string is palindrome\n",
      "string is palindrome\n"
     ]
    }
   ],
   "source": [
    "def palindrome(str):\n",
    "    str=str.lower().replace(\" \",\"\")\n",
    "    if (str[-1::-1]==str[0:]):\n",
    "        print(\"string is palindrome\")\n",
    "    else:\n",
    "        print(\"string is not palindrome\")\n",
    "        \n",
    "        \n",
    "palindrome(\"barun\")\n",
    "palindrome(\"12321\")\n",
    "palindrome(\"A man a plan a canal panama\")"
   ]
  },
  {
   "cell_type": "code",
   "execution_count": 78,
   "metadata": {},
   "outputs": [
    {
     "data": {
      "text/plain": [
       "720"
      ]
     },
     "execution_count": 78,
     "metadata": {},
     "output_type": "execute_result"
    }
   ],
   "source": [
    "def recursion(num):\n",
    "    if(num==0):\n",
    "        return 1\n",
    "    else:\n",
    "        return num*recursion(num-1)\n",
    "    \n",
    "    \n",
    "recursion(6)"
   ]
  },
  {
   "cell_type": "code",
   "execution_count": 10,
   "metadata": {},
   "outputs": [
    {
     "name": "stdout",
     "output_type": "stream",
     "text": [
      "['barun', 'is', 'name', 'my']\n"
     ]
    }
   ],
   "source": [
    "str1=\"my name is barun\"\n",
    "##for line in str1:\n",
    "words=str1.split()\n",
    "c=words[::-1]\n",
    "str(c)\n",
    "print(c)"
   ]
  },
  {
   "cell_type": "code",
   "execution_count": 12,
   "metadata": {},
   "outputs": [
    {
     "name": "stdout",
     "output_type": "stream",
     "text": [
      "1\n",
      "2\n",
      "3\n",
      "2\n",
      "4\n"
     ]
    }
   ],
   "source": [
    "list1=[1,2,3,2,4]\n",
    "l=len(list1)\n",
    "for i in range(l):\n",
    "    print(list1[i])"
   ]
  },
  {
   "cell_type": "code",
   "execution_count": 3,
   "metadata": {},
   "outputs": [
    {
     "name": "stdout",
     "output_type": "stream",
     "text": [
      "['APPLE', 'BANANA', 'LICHI']\n"
     ]
    }
   ],
   "source": [
    "words=['apple','banana','lichi']\n",
    "upper_words=list(map(str.upper,words))\n",
    "print(upper_words)"
   ]
  }
 ],
 "metadata": {
  "kernelspec": {
   "display_name": "Python 3.12.4 64-bit (microsoft store)",
   "language": "python",
   "name": "python3"
  },
  "language_info": {
   "codemirror_mode": {
    "name": "ipython",
    "version": 3
   },
   "file_extension": ".py",
   "mimetype": "text/x-python",
   "name": "python",
   "nbconvert_exporter": "python",
   "pygments_lexer": "ipython3",
   "version": "3.12.5"
  },
  "orig_nbformat": 4,
  "vscode": {
   "interpreter": {
    "hash": "14abb85e990de3c18f8c0fff9b51ee9e125839eace540016770033234ce80d4b"
   }
  }
 },
 "nbformat": 4,
 "nbformat_minor": 2
}
