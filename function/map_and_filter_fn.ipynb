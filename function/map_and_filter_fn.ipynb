{
 "cells": [
  {
   "cell_type": "code",
   "execution_count": 1,
   "metadata": {},
   "outputs": [
    {
     "name": "stdout",
     "output_type": "stream",
     "text": [
      "['APPLE', 'BANANA', 'LICHI']\n"
     ]
    }
   ],
   "source": [
    "##using map function\n",
    "words=['apple','banana','lichi']\n",
    "upper_words=list(map(str.upper,words))\n",
    "print(upper_words)\n"
   ]
  },
  {
   "cell_type": "code",
   "execution_count": 2,
   "metadata": {},
   "outputs": [
    {
     "name": "stdout",
     "output_type": "stream",
     "text": [
      "[1, 4, 9, 16, 25, 36, 49, 64, 81, 100]\n"
     ]
    }
   ],
   "source": [
    "#using map function with lambda\n",
    "numbers=[1,2,3,4,5,6,7,8,9,10]\n",
    "square=list(map(lambda x:x**2,numbers))\n",
    "print(square)"
   ]
  },
  {
   "cell_type": "code",
   "execution_count": 3,
   "metadata": {},
   "outputs": [
    {
     "name": "stdout",
     "output_type": "stream",
     "text": [
      "[2, 4, 6, 8, 10]\n"
     ]
    }
   ],
   "source": [
    "##using filter function\n",
    "even_numbers=list(filter(lambda x:x%2==0,numbers))\n",
    "print(even_numbers)"
   ]
  },
  {
   "cell_type": "code",
   "execution_count": 6,
   "metadata": {},
   "outputs": [
    {
     "name": "stdout",
     "output_type": "stream",
     "text": [
      "[6, 8, 10]\n"
     ]
    }
   ],
   "source": [
    "## using multiple condition in filter function\n",
    "even_greater_than_five=list(filter(lambda x:x%2==0 and x>5 ,numbers))\n",
    "print(even_greater_than_five)"
   ]
  },
  {
   "cell_type": "code",
   "execution_count": 9,
   "metadata": {},
   "outputs": [
    {
     "name": "stdout",
     "output_type": "stream",
     "text": [
      "['barun', 'naveen']\n"
     ]
    }
   ],
   "source": [
    "##dictionery in map function\n",
    "dict1=[\n",
    "    {'name':'barun','age':20},\n",
    "    {'name':'naveen','age':50}]\n",
    "def name_print(dict):\n",
    "    return dict['name']\n",
    "name=list(map(name_print,dict1))\n",
    "print(name)"
   ]
  },
  {
   "cell_type": "code",
   "execution_count": 11,
   "metadata": {},
   "outputs": [
    {
     "name": "stdout",
     "output_type": "stream",
     "text": [
      "[{'name': 'barun', 'age': 20}]\n"
     ]
    }
   ],
   "source": [
    "##dictionery in filter function\n",
    "name1=list(filter(lambda x:x['name']=='barun',dict1))\n",
    "print(name1)"
   ]
  }
 ],
 "metadata": {
  "kernelspec": {
   "display_name": "Python 3.12.4 64-bit (microsoft store)",
   "language": "python",
   "name": "python3"
  },
  "language_info": {
   "codemirror_mode": {
    "name": "ipython",
    "version": 3
   },
   "file_extension": ".py",
   "mimetype": "text/x-python",
   "name": "python",
   "nbconvert_exporter": "python",
   "pygments_lexer": "ipython3",
   "version": "3.12.4"
  },
  "orig_nbformat": 4,
  "vscode": {
   "interpreter": {
    "hash": "14abb85e990de3c18f8c0fff9b51ee9e125839eace540016770033234ce80d4b"
   }
  }
 },
 "nbformat": 4,
 "nbformat_minor": 2
}
