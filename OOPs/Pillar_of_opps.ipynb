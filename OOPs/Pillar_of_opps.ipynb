{
 "cells": [
  {
   "cell_type": "markdown",
   "metadata": {},
   "source": [
    "### Assignment 1: Polymorphism with Methods\n",
    "\n",
    "Create a base class named `Shape` with a method `area`. Create two derived classes `Circle` and `Square` that override the `area` method. Create a list of `Shape` objects and call the `area` method on each object to demonstrate polymorphism."
   ]
  },
  {
   "cell_type": "code",
   "execution_count": 5,
   "metadata": {},
   "outputs": [
    {
     "name": "stdout",
     "output_type": "stream",
     "text": [
      "153.93804002589985\n",
      "256\n"
     ]
    }
   ],
   "source": [
    "import math\n",
    "class Shape :\n",
    "    def area():\n",
    "        pass \n",
    "    \n",
    "class Circle(Shape):\n",
    "    def __init__(self,radius):\n",
    "        self.radius=radius\n",
    "    def area(self):\n",
    "        return self.radius*self.radius*math.pi\n",
    "    \n",
    "class Square(Shape):\n",
    "    def __init__(self,side):\n",
    "        self.side=side\n",
    "    \n",
    "    def area(self):\n",
    "        return self.side*self.side\n",
    "    \n",
    "shape=[Circle(7),Square(16)]\n",
    "for i in shape:\n",
    "    print(i.area())"
   ]
  },
  {
   "cell_type": "markdown",
   "metadata": {},
   "source": [
    "### Assignment 2: Polymorphism with Function Arguments\n",
    "\n",
    "Create a function named `describe_shape` that takes a `Shape` object as an argument and calls its `area` method. Create objects of `Circle` and `Square` classes and pass them to the `describe_shape` function."
   ]
  },
  {
   "cell_type": "code",
   "execution_count": 8,
   "metadata": {},
   "outputs": [
    {
     "name": "stdout",
     "output_type": "stream",
     "text": [
      "615.7521601035994\n",
      "25\n"
     ]
    }
   ],
   "source": [
    "def describe_shape(object):\n",
    "    return object.area()\n",
    "\n",
    "c1=Circle(14)\n",
    "print(describe_shape(c1))\n",
    "s1=Square(5)\n",
    "print(describe_shape(s1))"
   ]
  },
  {
   "cell_type": "markdown",
   "metadata": {},
   "source": [
    "### Assignment 3: Abstract Base Class with Abstract Methods\n",
    "\n",
    "Create an abstract base class named `Vehicle` with an abstract method `start_engine`. Create derived classes `Car` and `Bike` that implement the `start_engine` method. Create objects of the derived classes and call the `start_engine` method."
   ]
  },
  {
   "cell_type": "code",
   "execution_count": 15,
   "metadata": {},
   "outputs": [
    {
     "name": "stdout",
     "output_type": "stream",
     "text": [
      "The car engine has started\n",
      "The bike engine has started\n"
     ]
    }
   ],
   "source": [
    "from abc import ABC,abstractmethod\n",
    "class Vehicle:\n",
    "    @abstractmethod\n",
    "    def start_engine():\n",
    "        pass\n",
    "    \n",
    "class Car(Vehicle):\n",
    "    def start_engine(self):\n",
    "        return \"The car engine has started\"\n",
    "    \n",
    "class Bike(Vehicle):\n",
    "    def start_engine(self):\n",
    "        return \"The bike engine has started\"\n",
    "    \n",
    "c1=Car()\n",
    "print(c1.start_engine())\n",
    "b1=Bike()\n",
    "print(b1.start_engine())"
   ]
  },
  {
   "cell_type": "markdown",
   "metadata": {},
   "source": [
    "### Assignment 4: Abstract Base Class with Concrete Methods\n",
    "\n",
    "In the `Vehicle` class, add a concrete method `fuel_type` that returns a generic fuel type. Override this method in `Car` and `Bike` classes to return specific fuel types. Create objects of the derived classes and call the `fuel_type` method.\n"
   ]
  },
  {
   "cell_type": "code",
   "execution_count": 4,
   "metadata": {},
   "outputs": [
    {
     "name": "stdout",
     "output_type": "stream",
     "text": [
      "it is a diesel vehical\n",
      "it is a petrol vehical\n"
     ]
    }
   ],
   "source": [
    "class Vehicle:\n",
    "    def fuel_type():\n",
    "        pass\n",
    "    \n",
    "class Car(Vehicle):\n",
    "    def fuel_type(self):\n",
    "        return \"it is a diesel vehical\"\n",
    "    \n",
    "class Bike(Vehicle):\n",
    "    def fuel_type(self):\n",
    "        return \"it is a petrol vehical\"\n",
    "\n",
    "c1=Car()\n",
    "print(c1.fuel_type())\n",
    "b1=Bike()\n",
    "print(b1.fuel_type())"
   ]
  },
  {
   "cell_type": "markdown",
   "metadata": {},
   "source": [
    "### Assignment 5: Encapsulation with Private Attributes\n",
    "\n",
    "Create a class named `BankAccount` with private attributes `account_number` and `balance`. Add methods to deposit and withdraw money, and to check the balance. Ensure that the balance cannot be accessed directly."
   ]
  },
  {
   "cell_type": "code",
   "execution_count": 16,
   "metadata": {},
   "outputs": [
    {
     "name": "stdout",
     "output_type": "stream",
     "text": [
      "1100\n"
     ]
    }
   ],
   "source": [
    "class BankAccount:\n",
    "    def __init__(self,account_number,balance):\n",
    "        self.__account_number=account_number\n",
    "        self.__balance=balance\n",
    "        \n",
    "    def deposit(self,amount):\n",
    "        self.__balance=self.__balance+amount\n",
    "        \n",
    "    def withdraw(self,amount):\n",
    "        self.__balance=self.__balance-amount\n",
    "        \n",
    "    def check_balance(self):\n",
    "        print(self.__balance)\n",
    "        \n",
    "b1=BankAccount(1,1000)\n",
    "b1.deposit(100)\n",
    "b1.check_balance()\n"
   ]
  },
  {
   "cell_type": "markdown",
   "metadata": {},
   "source": [
    "### Assignment 6: Encapsulation with Property Decorators\n",
    "\n",
    "In the `BankAccount` class, use property decorators to get and set the `balance` attribute. Ensure that the balance cannot be set to a negative value.\n"
   ]
  },
  {
   "cell_type": "code",
   "execution_count": 18,
   "metadata": {},
   "outputs": [
    {
     "name": "stdout",
     "output_type": "stream",
     "text": [
      "1000\n",
      "900\n"
     ]
    }
   ],
   "source": [
    "class BankAccount:\n",
    "    def __init__(self,balance):\n",
    "        self.balance=balance\n",
    "        \n",
    "    def set_balance(self,amount):\n",
    "        if (amount<0):\n",
    "            print(\"balance can not set to zero\")\n",
    "        else:\n",
    "            self.balance=amount\n",
    "        \n",
    "    def get_balance(self):\n",
    "        print(self.balance)\n",
    "        \n",
    "b1=BankAccount(1000)\n",
    "b1.get_balance()\n",
    "b1.set_balance(900)\n",
    "b1.get_balance()"
   ]
  },
  {
   "cell_type": "markdown",
   "metadata": {},
   "source": [
    "### Assignment 7: Combining Encapsulation and Inheritance\n",
    "\n",
    "Create a base class named `Person` with private attributes `name` and `age`. Add methods to get and set these attributes. Create a derived class named `Student` that adds an attribute `student_id`. Create an object of the `Student` class and test the encapsulation."
   ]
  },
  {
   "cell_type": "code",
   "execution_count": 23,
   "metadata": {},
   "outputs": [
    {
     "name": "stdout",
     "output_type": "stream",
     "text": [
      "barun\n",
      "20\n"
     ]
    },
    {
     "data": {
      "text/plain": [
       "1"
      ]
     },
     "execution_count": 23,
     "metadata": {},
     "output_type": "execute_result"
    }
   ],
   "source": [
    "class Person:\n",
    "    def __init__(self, name, age):\n",
    "        self.__name = name\n",
    "        self.__age = age\n",
    "\n",
    "    def get_name(self):\n",
    "        print (self.__name)\n",
    "\n",
    "    def set_name(self, name):\n",
    "        self.__name = name\n",
    "\n",
    "    def get_age(self):\n",
    "        print (self.__age)\n",
    "\n",
    "    def set_age(self, age):\n",
    "        self.__age = age\n",
    "\n",
    "class Student(Person):\n",
    "    def __init__(self, name, age, student_id):\n",
    "        super().__init__(name, age)\n",
    "        self.student_id = student_id\n",
    "        \n",
    "s1=Student('barun',20,1)\n",
    "s1.get_name()\n",
    "s1.get_age()\n",
    "s1.student_id"
   ]
  },
  {
   "cell_type": "markdown",
   "metadata": {},
   "source": [
    "### Assignment 8: Polymorphism with Inheritance\n",
    "\n",
    "Create a base class named `Animal` with a method `speak`. Create two derived classes `Dog` and `Cat` that override the `speak` method. Create a list of `Animal` objects and call the `speak` method on each object to demonstrate polymorphism.\n"
   ]
  },
  {
   "cell_type": "code",
   "execution_count": 25,
   "metadata": {},
   "outputs": [
    {
     "name": "stdout",
     "output_type": "stream",
     "text": [
      "the cat says meow\n",
      "the dog says woof woof\n"
     ]
    }
   ],
   "source": [
    "class Animal:\n",
    "    def speak(self):\n",
    "        pass\n",
    "    \n",
    "class Dog(Animal):\n",
    "    def speak(self):\n",
    "        return \"the dog says woof woof\"\n",
    "    \n",
    "class Cat(Animal):\n",
    "    def speak(self):\n",
    "        return \"the cat says meow\"\n",
    "    \n",
    "animal_list=[Cat(),Dog()]\n",
    "for animal in animal_list:\n",
    "    print(animal.speak())"
   ]
  },
  {
   "cell_type": "markdown",
   "metadata": {},
   "source": [
    "### Assignment 9: Abstract Methods in Base Class\n",
    "\n",
    "Create an abstract base class named `Employee` with an abstract method `calculate_salary`. Create two derived classes `FullTimeEmployee` and `PartTimeEmployee` that implement the `calculate_salary` method. Create objects of the derived classes and call the `calculate_salary` method.\n"
   ]
  },
  {
   "cell_type": "code",
   "execution_count": 26,
   "metadata": {},
   "outputs": [
    {
     "name": "stdout",
     "output_type": "stream",
     "text": [
      "10000\n",
      "3000\n"
     ]
    }
   ],
   "source": [
    "from abc import ABC, abstractmethod\n",
    "\n",
    "class Employee:\n",
    "    @abstractmethod\n",
    "    def calculate_salary():\n",
    "        pass \n",
    "    \n",
    "class FullTimeEmployee(Employee):\n",
    "    def __init__(self,salary):\n",
    "        self.salary=salary\n",
    "        \n",
    "    def calculate_salary(self):\n",
    "        return self.salary\n",
    "    \n",
    "class PartTimeEmployee(Employee):\n",
    "    def __init__(self,hourly_rate,hours_worked):\n",
    "        self.hourly_rate=hourly_rate\n",
    "        self.hours_worked=hours_worked\n",
    "        \n",
    "    def calculate_salary(self):\n",
    "        return self.hourly_rate*self.hours_worked\n",
    "    \n",
    "f1=FullTimeEmployee(10000)\n",
    "print(f1.calculate_salary())\n",
    "p1=PartTimeEmployee(300,10)\n",
    "print(p1.calculate_salary())"
   ]
  },
  {
   "cell_type": "markdown",
   "metadata": {},
   "source": [
    "### Assignment 10: Encapsulation in Data Classes\n",
    "\n",
    "Create a data class named `Product` with private attributes `product_id`, `name`, and `price`. Add methods to get and set these attributes. Ensure that the price cannot be set to a negative value."
   ]
  },
  {
   "cell_type": "code",
   "execution_count": 27,
   "metadata": {},
   "outputs": [
    {
     "name": "stdout",
     "output_type": "stream",
     "text": [
      "P001\n",
      "Laptop\n",
      "1000\n",
      "price can not set to zero\n",
      "P001\n",
      "Laptop\n",
      "1000\n"
     ]
    }
   ],
   "source": [
    "class Product:\n",
    "    def __init__(self,product_id,name,price):\n",
    "        self.__product_id=product_id\n",
    "        self.__name=name\n",
    "        self.__price=price\n",
    "        \n",
    "    def get_product_id(self):\n",
    "        print(self.__product_id)\n",
    "        \n",
    "    def get_name(self):\n",
    "        print(self.__name)\n",
    "        \n",
    "    def get_price(self):\n",
    "        print(self.__price)\n",
    "        \n",
    "    def set_product_id(self,value):\n",
    "        self.__product_id=value\n",
    "        \n",
    "    def set_name(self,value):\n",
    "        self.__name=value\n",
    "        \n",
    "    def set_price(self,value):\n",
    "        if (value<0):\n",
    "            print(\"price can not set to zero\")\n",
    "        else:\n",
    "            self.price=value\n",
    "        \n",
    "product = Product('P001', 'Laptop', 1000)\n",
    "product.get_product_id()\n",
    "product.get_name()\n",
    "product.get_price()\n",
    "product.set_price(-500)  # Price cannot be negative!\n",
    "product.set_price(1500)\n",
    "product.get_product_id()\n",
    "product.get_name()\n",
    "product.get_price()"
   ]
  }
 ],
 "metadata": {
  "kernelspec": {
   "display_name": "Python 3.12.4 64-bit (microsoft store)",
   "language": "python",
   "name": "python3"
  },
  "language_info": {
   "codemirror_mode": {
    "name": "ipython",
    "version": 3
   },
   "file_extension": ".py",
   "mimetype": "text/x-python",
   "name": "python",
   "nbconvert_exporter": "python",
   "pygments_lexer": "ipython3",
   "version": "3.12.5"
  },
  "orig_nbformat": 4,
  "vscode": {
   "interpreter": {
    "hash": "14abb85e990de3c18f8c0fff9b51ee9e125839eace540016770033234ce80d4b"
   }
  }
 },
 "nbformat": 4,
 "nbformat_minor": 2
}
